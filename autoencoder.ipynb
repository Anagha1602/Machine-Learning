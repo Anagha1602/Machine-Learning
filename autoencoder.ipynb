{
  "nbformat": 4,
  "nbformat_minor": 0,
  "metadata": {
    "colab": {
      "provenance": [],
      "gpuType": "T4",
      "authorship_tag": "ABX9TyM01czK3ZaCnjXVgR95++iN",
      "include_colab_link": true
    },
    "kernelspec": {
      "name": "python3",
      "display_name": "Python 3"
    },
    "language_info": {
      "name": "python"
    },
    "accelerator": "GPU"
  },
  "cells": [
    {
      "cell_type": "markdown",
      "metadata": {
        "id": "view-in-github",
        "colab_type": "text"
      },
      "source": [
        "<a href=\"https://colab.research.google.com/github/Anagha1602/Machine-Learning/blob/main/autoencoder.ipynb\" target=\"_parent\"><img src=\"https://colab.research.google.com/assets/colab-badge.svg\" alt=\"Open In Colab\"/></a>"
      ]
    },
    {
      "cell_type": "code",
      "execution_count": null,
      "metadata": {
        "id": "QrXvD5s5s8Ou"
      },
      "outputs": [],
      "source": [
        "import numpy as np\n",
        "import torch\n",
        "import torchvision.transforms as transforms\n",
        "from torchvision import datasets"
      ]
    },
    {
      "cell_type": "code",
      "source": [
        "transform = transforms.ToTensor()\n",
        "traindata = datasets.MNIST(root='data',train=True,download=True,transform=transform)\n",
        "testdata = datasets.MNIST(root='data',train=False,download=True,transform=transform)"
      ],
      "metadata": {
        "id": "r4e7djf2tEg8"
      },
      "execution_count": null,
      "outputs": []
    },
    {
      "cell_type": "code",
      "source": [
        "num_workers = 0\n",
        "batch_size = 10\n",
        "trainloader = torch.utils.data.DataLoader(traindata,batch_size=batch_size,num_workers=num_workers)\n",
        "testloader = torch.utils.data.DataLoader(testdata,batch_size=batch_size,num_workers=num_workers)\n"
      ],
      "metadata": {
        "id": "-Xe8-BpqtHCh"
      },
      "execution_count": null,
      "outputs": []
    },
    {
      "cell_type": "code",
      "source": [
        "import torch.nn as nn\n",
        "import torch.nn.functional as F\n",
        "\n",
        "class Autoencoder(nn.Module):\n",
        "    def __init__(self, encoding_size):\n",
        "        super(Autoencoder, self).__init__()\n",
        "\n",
        "        self.encoder = nn.Linear(28 * 28, encoding_size)\n",
        "        self.decoder = nn.Linear(encoding_size, 28*28)\n",
        "\n",
        "    def forward(self, x):\n",
        "        x = F.relu(self.encoder(x))\n",
        "        x = F.sigmoid(self.decoder(x))\n",
        "        return x\n",
        "\n",
        "encoding_size = 32\n",
        "model = Autoencoder(encoding_size)\n",
        "print(model)\n"
      ],
      "metadata": {
        "colab": {
          "base_uri": "https://localhost:8080/"
        },
        "id": "y7Y7KTNmtT3Q",
        "outputId": "a6700644-c2ca-4ff1-d9e3-a7cac67daef7"
      },
      "execution_count": null,
      "outputs": [
        {
          "output_type": "stream",
          "name": "stdout",
          "text": [
            "Autoencoder(\n",
            "  (encoder): Linear(in_features=784, out_features=32, bias=True)\n",
            "  (decoder): Linear(in_features=32, out_features=784, bias=True)\n",
            ")\n"
          ]
        }
      ]
    },
    {
      "cell_type": "code",
      "source": [
        "criterion = nn.MSELoss()\n",
        "optimizer = torch.optim.Adam(model.parameters(), lr=0.001)\n"
      ],
      "metadata": {
        "id": "tCJCjaNYtVeK"
      },
      "execution_count": null,
      "outputs": []
    },
    {
      "cell_type": "code",
      "source": [
        "n_epochs = 17\n",
        "for epoch in range(1, n_epochs+1):\n",
        "    train_loss = 0.0\n",
        "    for data in trainloader:\n",
        "        images, _ = data\n",
        "        images = images.view(images.size(0), -1)\n",
        "        optimizer.zero_grad()\n",
        "        outputs = model(images)\n",
        "        loss = criterion(outputs, images)\n",
        "        loss.backward()\n",
        "        optimizer.step()\n",
        "        train_loss += loss.item() * images.size(0)\n",
        "    train_loss = train_loss / len(trainloader)\n",
        "    print('Epoch: {} Training Loss: {:.6f}'.format(epoch, train_loss ))\n"
      ],
      "metadata": {
        "id": "qjE790eYtg0Z",
        "colab": {
          "base_uri": "https://localhost:8080/"
        },
        "outputId": "bc46d591-e281-400c-cf10-d632564f7331"
      },
      "execution_count": null,
      "outputs": [
        {
          "output_type": "stream",
          "name": "stdout",
          "text": [
            "Epoch: 1 Training Loss: 0.234411\n",
            "Epoch: 2 Training Loss: 0.124084\n",
            "Epoch: 3 Training Loss: 0.117564\n",
            "Epoch: 4 Training Loss: 0.115371\n",
            "Epoch: 5 Training Loss: 0.114205\n",
            "Epoch: 6 Training Loss: 0.113395\n",
            "Epoch: 7 Training Loss: 0.112801\n",
            "Epoch: 8 Training Loss: 0.112327\n",
            "Epoch: 9 Training Loss: 0.111940\n",
            "Epoch: 10 Training Loss: 0.111618\n",
            "Epoch: 11 Training Loss: 0.111341\n",
            "Epoch: 12 Training Loss: 0.111099\n",
            "Epoch: 13 Training Loss: 0.110870\n",
            "Epoch: 14 Training Loss: 0.110658\n",
            "Epoch: 15 Training Loss: 0.110466\n",
            "Epoch: 16 Training Loss: 0.110288\n",
            "Epoch: 17 Training Loss: 0.110122\n"
          ]
        }
      ]
    },
    {
      "cell_type": "code",
      "source": [
        "import matplotlib.pyplot as plt\n",
        "\n",
        "for images, labels in testloader:\n",
        "    images_flatten = images.view(images.size(0), -1)\n",
        "    output = model(images_flatten)\n",
        "    images = images.numpy()\n",
        "    output = output.view(images.shape[0], 1, 28, 28)\n",
        "    output = output.detach().numpy()\n",
        "\n",
        "    fig, axes = plt.subplots(nrows=2, ncols=10, sharex=True, sharey=True, figsize=(25, 4))\n",
        "\n",
        "    for i in range(10):\n",
        "        original_img = np.squeeze(images[i])\n",
        "        axes[0, i].imshow(original_img, cmap='gray')\n",
        "        axes[0, i].get_xaxis().set_visible(False)\n",
        "        axes[0, i].get_yaxis().set_visible(False)\n",
        "\n",
        "    for i in range(10):\n",
        "        reconstructed_img = np.squeeze(output[i])\n",
        "        axes[1, i].imshow(reconstructed_img, cmap='gray')\n",
        "        axes[1, i].get_xaxis().set_visible(False)\n",
        "        axes[1, i].get_yaxis().set_visible(False)\n",
        "\n",
        "    plt.show()\n",
        "    break\n"
      ],
      "metadata": {
        "id": "r3HKh3eLthx0",
        "colab": {
          "base_uri": "https://localhost:8080/",
          "height": 257
        },
        "outputId": "7f365206-92fe-4059-a1a1-c8ab9285f5ab"
      },
      "execution_count": null,
      "outputs": [
        {
          "output_type": "display_data",
          "data": {
            "text/plain": [
              "<Figure size 2500x400 with 20 Axes>"
            ],
            "image/png": "[encoded data removed]"
          },
          "metadata": {}
        }
      ]
    }
  ]
}