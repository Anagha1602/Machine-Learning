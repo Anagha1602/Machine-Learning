{
  "nbformat": 4,
  "nbformat_minor": 0,
  "metadata": {
    "colab": {
      "provenance": [],
      "include_colab_link": true
    },
    "kernelspec": {
      "name": "python3",
      "display_name": "Python 3"
    },
    "language_info": {
      "name": "python"
    }
  },
  "cells": [
    {
      "cell_type": "markdown",
      "metadata": {
        "id": "view-in-github",
        "colab_type": "text"
      },
      "source": [
        "<a href=\"https://colab.research.google.com/github/Anagha1602/Machine-Learning/blob/main/CNN_CIFAR_100.ipynb\" target=\"_parent\"><img src=\"https://colab.research.google.com/assets/colab-badge.svg\" alt=\"Open In Colab\"/></a>"
      ]
    },
    {
      "cell_type": "code",
      "execution_count": null,
      "metadata": {
        "id": "jqYtpX6DfejI"
      },
      "outputs": [],
      "source": [
        "import tensorflow as tf\n",
        "import matplotlib.pyplot as plt\n",
        "import tensorflow as tf\n",
        "from tensorflow import keras\n",
        "from keras.layers import Input,Conv2D,MaxPooling2D, Flatten,Dense, Dropout\n",
        "from keras.models import Model\n",
        "from keras import layers,models\n",
        "from keras.datasets import cifar100\n",
        "from keras.utils import to_categorical"
      ]
    },
    {
      "cell_type": "code",
      "source": [
        "(train_images,train_labels),(test_images,test_labels)=cifar100.load_data()\n",
        "train_images[0]"
      ],
      "metadata": {
        "colab": {
          "base_uri": "https://localhost:8080/",
          "height": 921
        },
        "id": "R0JDa60_h9NK",
        "outputId": "97cb8234-fe83-491d-99d9-7b7b0e074b1c"
      },
      "execution_count": null,
      "outputs": [
        {
          "output_type": "stream",
          "name": "stdout",
          "text": [
            "Downloading data from https://www.cs.toronto.edu/~kriz/cifar-100-python.tar.gz\n",
            "169001437/169001437 [==============================] - 11s 0us/step\n"
          ]
        },
        {
          "output_type": "execute_result",
          "data": {
            "text/plain": [
              "array([[[255, 255, 255],\n",
              "        [255, 255, 255],\n",
              "        [255, 255, 255],\n",
              "        ...,\n",
              "        [195, 205, 193],\n",
              "        [212, 224, 204],\n",
              "        [182, 194, 167]],\n",
              "\n",
              "       [[255, 255, 255],\n",
              "        [254, 254, 254],\n",
              "        [254, 254, 254],\n",
              "        ...,\n",
              "        [170, 176, 150],\n",
              "        [161, 168, 130],\n",
              "        [146, 154, 113]],\n",
              "\n",
              "       [[255, 255, 255],\n",
              "        [254, 254, 254],\n",
              "        [255, 255, 255],\n",
              "        ...,\n",
              "        [189, 199, 169],\n",
              "        [166, 178, 130],\n",
              "        [121, 133,  87]],\n",
              "\n",
              "       ...,\n",
              "\n",
              "       [[148, 185,  79],\n",
              "        [142, 182,  57],\n",
              "        [140, 179,  60],\n",
              "        ...,\n",
              "        [ 30,  17,   1],\n",
              "        [ 65,  62,  15],\n",
              "        [ 76,  77,  20]],\n",
              "\n",
              "       [[122, 157,  66],\n",
              "        [120, 155,  58],\n",
              "        [126, 160,  71],\n",
              "        ...,\n",
              "        [ 22,  16,   3],\n",
              "        [ 97, 112,  56],\n",
              "        [141, 161,  87]],\n",
              "\n",
              "       [[ 87, 122,  41],\n",
              "        [ 88, 122,  39],\n",
              "        [101, 134,  56],\n",
              "        ...,\n",
              "        [ 34,  36,  10],\n",
              "        [105, 133,  59],\n",
              "        [138, 173,  79]]], dtype=uint8)"
            ],
            "text/html": [
              "<style>\n",
              "      .ndarray_repr .ndarray_raw_data {\n",
              "        display: none;\n",
              "      }\n",
              "      .ndarray_repr.show_array .ndarray_raw_data {\n",
              "        display: block;\n",
              "      }\n",
              "      .ndarray_repr.show_array .ndarray_image_preview {\n",
              "        display: none;\n",
              "      }\n",
              "      </style>\n",
              "      <div id=\"id-70334342-6505-4ec3-9b33-56f9f90e9c31\" class=\"ndarray_repr\"><pre>ndarray (32, 32, 3) <button style=\"padding: 0 2px;\">show data</button></pre><img src=\"data:image/png;base64,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\" class=\"ndarray_image_preview\" /><pre class=\"ndarray_raw_data\">array([[[255, 255, 255],\n",
              "        [255, 255, 255],\n",
              "        [255, 255, 255],\n",
              "        ...,\n",
              "        [195, 205, 193],\n",
              "        [212, 224, 204],\n",
              "        [182, 194, 167]],\n",
              "\n",
              "       [[255, 255, 255],\n",
              "        [254, 254, 254],\n",
              "        [254, 254, 254],\n",
              "        ...,\n",
              "        [170, 176, 150],\n",
              "        [161, 168, 130],\n",
              "        [146, 154, 113]],\n",
              "\n",
              "       [[255, 255, 255],\n",
              "        [254, 254, 254],\n",
              "        [255, 255, 255],\n",
              "        ...,\n",
              "        [189, 199, 169],\n",
              "        [166, 178, 130],\n",
              "        [121, 133,  87]],\n",
              "\n",
              "       ...,\n",
              "\n",
              "       [[148, 185,  79],\n",
              "        [142, 182,  57],\n",
              "        [140, 179,  60],\n",
              "        ...,\n",
              "        [ 30,  17,   1],\n",
              "        [ 65,  62,  15],\n",
              "        [ 76,  77,  20]],\n",
              "\n",
              "       [[122, 157,  66],\n",
              "        [120, 155,  58],\n",
              "        [126, 160,  71],\n",
              "        ...,\n",
              "        [ 22,  16,   3],\n",
              "        [ 97, 112,  56],\n",
              "        [141, 161,  87]],\n",
              "\n",
              "       [[ 87, 122,  41],\n",
              "        [ 88, 122,  39],\n",
              "        [101, 134,  56],\n",
              "        ...,\n",
              "        [ 34,  36,  10],\n",
              "        [105, 133,  59],\n",
              "        [138, 173,  79]]], dtype=uint8)</pre></div><script>\n",
              "      (() => {\n",
              "      const titles = ['show data', 'hide data'];\n",
              "      let index = 0\n",
              "      document.querySelector('#id-70334342-6505-4ec3-9b33-56f9f90e9c31 button').onclick = (e) => {\n",
              "        document.querySelector('#id-70334342-6505-4ec3-9b33-56f9f90e9c31').classList.toggle('show_array');\n",
              "        index = (++index) % 2;\n",
              "        document.querySelector('#id-70334342-6505-4ec3-9b33-56f9f90e9c31 button').textContent = titles[index];\n",
              "        e.preventDefault();\n",
              "        e.stopPropagation();\n",
              "      }\n",
              "      })();\n",
              "    </script>"
            ]
          },
          "metadata": {},
          "execution_count": 4
        }
      ]
    },
    {
      "cell_type": "code",
      "source": [
        "# Data Normalisation\n",
        "train_images,test_images=train_images/255.0,test_images/255.0\n",
        "train_images[0]"
      ],
      "metadata": {
        "colab": {
          "base_uri": "https://localhost:8080/"
        },
        "id": "ucV3isHcnW8-",
        "outputId": "bc3a5eff-08a0-469f-8924-05e5580a53b0"
      },
      "execution_count": null,
      "outputs": [
        {
          "output_type": "execute_result",
          "data": {
            "text/plain": [
              "array([[[1.        , 1.        , 1.        ],\n",
              "        [1.        , 1.        , 1.        ],\n",
              "        [1.        , 1.        , 1.        ],\n",
              "        ...,\n",
              "        [0.76470588, 0.80392157, 0.75686275],\n",
              "        [0.83137255, 0.87843137, 0.8       ],\n",
              "        [0.71372549, 0.76078431, 0.65490196]],\n",
              "\n",
              "       [[1.        , 1.        , 1.        ],\n",
              "        [0.99607843, 0.99607843, 0.99607843],\n",
              "        [0.99607843, 0.99607843, 0.99607843],\n",
              "        ...,\n",
              "        [0.66666667, 0.69019608, 0.58823529],\n",
              "        [0.63137255, 0.65882353, 0.50980392],\n",
              "        [0.57254902, 0.60392157, 0.44313725]],\n",
              "\n",
              "       [[1.        , 1.        , 1.        ],\n",
              "        [0.99607843, 0.99607843, 0.99607843],\n",
              "        [1.        , 1.        , 1.        ],\n",
              "        ...,\n",
              "        [0.74117647, 0.78039216, 0.6627451 ],\n",
              "        [0.65098039, 0.69803922, 0.50980392],\n",
              "        [0.4745098 , 0.52156863, 0.34117647]],\n",
              "\n",
              "       ...,\n",
              "\n",
              "       [[0.58039216, 0.7254902 , 0.30980392],\n",
              "        [0.55686275, 0.71372549, 0.22352941],\n",
              "        [0.54901961, 0.70196078, 0.23529412],\n",
              "        ...,\n",
              "        [0.11764706, 0.06666667, 0.00392157],\n",
              "        [0.25490196, 0.24313725, 0.05882353],\n",
              "        [0.29803922, 0.30196078, 0.07843137]],\n",
              "\n",
              "       [[0.47843137, 0.61568627, 0.25882353],\n",
              "        [0.47058824, 0.60784314, 0.22745098],\n",
              "        [0.49411765, 0.62745098, 0.27843137],\n",
              "        ...,\n",
              "        [0.08627451, 0.0627451 , 0.01176471],\n",
              "        [0.38039216, 0.43921569, 0.21960784],\n",
              "        [0.55294118, 0.63137255, 0.34117647]],\n",
              "\n",
              "       [[0.34117647, 0.47843137, 0.16078431],\n",
              "        [0.34509804, 0.47843137, 0.15294118],\n",
              "        [0.39607843, 0.5254902 , 0.21960784],\n",
              "        ...,\n",
              "        [0.13333333, 0.14117647, 0.03921569],\n",
              "        [0.41176471, 0.52156863, 0.23137255],\n",
              "        [0.54117647, 0.67843137, 0.30980392]]])"
            ]
          },
          "metadata": {},
          "execution_count": 8
        }
      ]
    },
    {
      "cell_type": "code",
      "source": [
        "#One-hot encoding\n",
        "train_labels=to_categorical(train_labels)\n",
        "test_labels=to_categorical(test_labels)\n",
        "train_labels"
      ],
      "metadata": {
        "colab": {
          "base_uri": "https://localhost:8080/"
        },
        "id": "LyGEvGDon_To",
        "outputId": "410a3937-5a54-4b13-8b2f-ab6322db9600"
      },
      "execution_count": null,
      "outputs": [
        {
          "output_type": "execute_result",
          "data": {
            "text/plain": [
              "array([[0., 0., 0., ..., 0., 0., 0.],\n",
              "       [0., 0., 0., ..., 0., 0., 0.],\n",
              "       [1., 0., 0., ..., 0., 0., 0.],\n",
              "       ...,\n",
              "       [0., 0., 0., ..., 0., 0., 0.],\n",
              "       [0., 0., 0., ..., 0., 0., 0.],\n",
              "       [0., 0., 0., ..., 0., 0., 0.]], dtype=float32)"
            ]
          },
          "metadata": {},
          "execution_count": 9
        }
      ]
    },
    {
      "cell_type": "code",
      "source": [
        "input_layer=Input(shape=(32,32,3))\n",
        "\n",
        "conv1=Conv2D(32,(3,3),activation='relu')(input_layer)\n",
        "maxpooling1=MaxPooling2D(2,2)(conv1)\n",
        "dropout1=Dropout(0.25)(maxpooling1)\n",
        "\n",
        "conv2=Conv2D(64,(3,3),activation='relu')(dropout1)\n",
        "maxpooling2=MaxPooling2D(2,2)(conv2)\n",
        "dropout2=Dropout(0.25)(maxpooling2)\n",
        "\n",
        "conv3=Conv2D(64,(3,3),activation='relu')(dropout2)\n",
        "maxpooling3=MaxPooling2D(2,2)(conv3)\n",
        "dropout3=Dropout(0.25)(maxpooling3)\n",
        "\n",
        "conv4=Conv2D(64,(2,2),activation='relu')(dropout3)\n",
        "flatten=Flatten()(conv4)\n",
        "dense1=Dense(64,activation='relu')(flatten)\n",
        "output_layer=Dense(100,activation='softmax')(dense1)\n",
        "\n",
        "\n",
        "\n",
        "\n",
        "\n"
      ],
      "metadata": {
        "id": "-2vWVsbsocf4"
      },
      "execution_count": null,
      "outputs": []
    },
    {
      "cell_type": "code",
      "source": [
        "model=Model(inputs=input_layer,outputs=output_layer)\n",
        "model.summary()"
      ],
      "metadata": {
        "colab": {
          "base_uri": "https://localhost:8080/"
        },
        "id": "TwEWDOndrd_5",
        "outputId": "355d14eb-158a-40c8-a684-09defc144695"
      },
      "execution_count": null,
      "outputs": [
        {
          "output_type": "stream",
          "name": "stdout",
          "text": [
            "Model: \"model\"\n",
            "_________________________________________________________________\n",
            " Layer (type)                Output Shape              Param #   \n",
            "=================================================================\n",
            " input_2 (InputLayer)        [(None, 32, 32, 3)]       0         \n",
            "                                                                 \n",
            " conv2d_4 (Conv2D)           (None, 30, 30, 32)        896       \n",
            "                                                                 \n",
            " max_pooling2d_3 (MaxPoolin  (None, 15, 15, 32)        0         \n",
            " g2D)                                                            \n",
            "                                                                 \n",
            " dropout_3 (Dropout)         (None, 15, 15, 32)        0         \n",
            "                                                                 \n",
            " conv2d_5 (Conv2D)           (None, 13, 13, 64)        18496     \n",
            "                                                                 \n",
            " max_pooling2d_4 (MaxPoolin  (None, 6, 6, 64)          0         \n",
            " g2D)                                                            \n",
            "                                                                 \n",
            " dropout_4 (Dropout)         (None, 6, 6, 64)          0         \n",
            "                                                                 \n",
            " conv2d_6 (Conv2D)           (None, 4, 4, 64)          36928     \n",
            "                                                                 \n",
            " max_pooling2d_5 (MaxPoolin  (None, 2, 2, 64)          0         \n",
            " g2D)                                                            \n",
            "                                                                 \n",
            " dropout_5 (Dropout)         (None, 2, 2, 64)          0         \n",
            "                                                                 \n",
            " conv2d_7 (Conv2D)           (None, 1, 1, 64)          16448     \n",
            "                                                                 \n",
            " flatten (Flatten)           (None, 64)                0         \n",
            "                                                                 \n",
            " dense (Dense)               (None, 64)                4160      \n",
            "                                                                 \n",
            " dense_1 (Dense)             (None, 100)               6500      \n",
            "                                                                 \n",
            "=================================================================\n",
            "Total params: 83428 (325.89 KB)\n",
            "Trainable params: 83428 (325.89 KB)\n",
            "Non-trainable params: 0 (0.00 Byte)\n",
            "_________________________________________________________________\n"
          ]
        }
      ]
    },
    {
      "cell_type": "code",
      "source": [
        "model.compile(optimizer='adam',loss='categorical_crossentropy',metrics=['accuracy'])"
      ],
      "metadata": {
        "id": "oEqAMGdHr3vr"
      },
      "execution_count": null,
      "outputs": []
    },
    {
      "cell_type": "code",
      "source": [
        "model.fit(train_images,train_labels,epochs=5,batch_size=10,validation_split=0.2)"
      ],
      "metadata": {
        "colab": {
          "base_uri": "https://localhost:8080/"
        },
        "id": "8w_xqZvBsKwi",
        "outputId": "f7267119-7e94-4e84-a2ac-2ed08492a7c1"
      },
      "execution_count": null,
      "outputs": [
        {
          "output_type": "stream",
          "name": "stdout",
          "text": [
            "Epoch 1/5\n",
            "4000/4000 [==============================] - 81s 20ms/step - loss: 4.1640 - accuracy: 0.0540 - val_loss: 3.9447 - val_accuracy: 0.0895\n",
            "Epoch 2/5\n",
            "4000/4000 [==============================] - 76s 19ms/step - loss: 3.7700 - accuracy: 0.1135 - val_loss: 3.6477 - val_accuracy: 0.1367\n",
            "Epoch 3/5\n",
            "4000/4000 [==============================] - 106s 27ms/step - loss: 3.5577 - accuracy: 0.1477 - val_loss: 3.4592 - val_accuracy: 0.1689\n",
            "Epoch 4/5\n",
            "4000/4000 [==============================] - 87s 22ms/step - loss: 3.4227 - accuracy: 0.1725 - val_loss: 3.4673 - val_accuracy: 0.1665\n",
            "Epoch 5/5\n",
            "4000/4000 [==============================] - 80s 20ms/step - loss: 3.3291 - accuracy: 0.1885 - val_loss: 3.3011 - val_accuracy: 0.2041\n"
          ]
        },
        {
          "output_type": "execute_result",
          "data": {
            "text/plain": [
              "<keras.src.callbacks.History at 0x7f0c69626020>"
            ]
          },
          "metadata": {},
          "execution_count": 15
        }
      ]
    },
    {
      "cell_type": "code",
      "source": [
        "test_loss,test_acc=model.evaluate(test_images,test_labels)\n",
        "print(f'Accuracy on test data: {test_acc}')"
      ],
      "metadata": {
        "colab": {
          "base_uri": "https://localhost:8080/"
        },
        "id": "z0D2_7LDtKph",
        "outputId": "39fd3917-3de1-4eb5-b57d-8647c3252145"
      },
      "execution_count": null,
      "outputs": [
        {
          "output_type": "stream",
          "name": "stdout",
          "text": [
            "313/313 [==============================] - 4s 12ms/step - loss: 3.2907 - accuracy: 0.2069\n",
            "Accuracy on test data: 0.2069000005722046\n"
          ]
        }
      ]
    }
  ]
}