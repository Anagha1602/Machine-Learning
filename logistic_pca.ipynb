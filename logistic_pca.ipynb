{
  "nbformat": 4,
  "nbformat_minor": 0,
  "metadata": {
    "colab": {
      "provenance": [],
      "gpuType": "T4",
      "include_colab_link": true
    },
    "kernelspec": {
      "name": "python3",
      "display_name": "Python 3"
    },
    "language_info": {
      "name": "python"
    },
    "accelerator": "GPU"
  },
  "cells": [
    {
      "cell_type": "markdown",
      "metadata": {
        "id": "view-in-github",
        "colab_type": "text"
      },
      "source": [
        "<a href=\"https://colab.research.google.com/github/Anagha1602/Machine-Learning/blob/main/logistic_pca.ipynb\" target=\"_parent\"><img src=\"https://colab.research.google.com/assets/colab-badge.svg\" alt=\"Open In Colab\"/></a>"
      ]
    },
    {
      "cell_type": "code",
      "execution_count": null,
      "metadata": {
        "id": "iMkTdsewPG3X"
      },
      "outputs": [],
      "source": [
        "import pandas as pd\n",
        "import numpy as np\n",
        "from sklearn.svm import SVC\n",
        "from sklearn.model_selection import train_test_split\n",
        "from sklearn import metrics\n",
        "from sklearn.metrics import confusion_matrix\n",
        "import matplotlib.pyplot as plt\n",
        "import seaborn as sns\n",
        "\n",
        "from sklearn.preprocessing import scale\n",
        "from sklearn.decomposition import PCA, IncrementalPCA\n",
        "test_data = pd.read_csv(\"test.csv\")\n",
        "training_data = pd.read_csv(\"train.csv\")"
      ]
    },
    {
      "cell_type": "code",
      "source": [
        "training_data.sample(10)\n",
        "training_data.max().sort_values()"
      ],
      "metadata": {
        "colab": {
          "base_uri": "https://localhost:8080/"
        },
        "id": "W_qNjxbyPj49",
        "outputId": "d56fc7f5-52c9-4315-81b1-fc52ff85638b"
      },
      "execution_count": null,
      "outputs": [
        {
          "output_type": "execute_result",
          "data": {
            "text/plain": [
              "pixel783      0\n",
              "pixel53       0\n",
              "pixel52       0\n",
              "pixel532      0\n",
              "pixel560      0\n",
              "           ... \n",
              "pixel330    255\n",
              "pixel331    255\n",
              "pixel332    255\n",
              "pixel314    255\n",
              "pixel430    255\n",
              "Length: 785, dtype: int64"
            ]
          },
          "metadata": {},
          "execution_count": 2
        }
      ]
    },
    {
      "cell_type": "code",
      "source": [
        "training_data.isnull().sum()\n",
        "training_data.fillna(0,inplace=True)\n",
        "training_data.isna().sum()\n",
        "test_data.isnull().sum()\n",
        "test_data.fillna(0,inplace=True)\n",
        "test_data.isna().sum()"
      ],
      "metadata": {
        "colab": {
          "base_uri": "https://localhost:8080/"
        },
        "id": "9oIsfxbxPpAj",
        "outputId": "02527f96-5b52-45f2-b969-a0be3af4820b"
      },
      "execution_count": null,
      "outputs": [
        {
          "output_type": "execute_result",
          "data": {
            "text/plain": [
              "pixel0      0\n",
              "pixel1      0\n",
              "pixel2      0\n",
              "pixel3      0\n",
              "pixel4      0\n",
              "           ..\n",
              "pixel779    0\n",
              "pixel780    0\n",
              "pixel781    0\n",
              "pixel782    0\n",
              "pixel783    0\n",
              "Length: 784, dtype: int64"
            ]
          },
          "metadata": {},
          "execution_count": 3
        }
      ]
    },
    {
      "cell_type": "code",
      "source": [
        "X = training_data.drop(\"label\", axis = 1)\n",
        "y = training_data['label']\n",
        "X_scaled = scale(X)\n",
        "\n",
        "# train test split\n",
        "X_train, X_test, y_train, y_test = train_test_split(X_scaled, y, test_size = 0.3, random_state = 101)\n",
        "\n",
        "pca = IncrementalPCA(n_components=400)\n",
        "X_train = pca.fit_transform(X_train)\n",
        "X_test = pca.transform(X_test)\n",
        "\n",
        "X_train.shape"
      ],
      "metadata": {
        "colab": {
          "base_uri": "https://localhost:8080/"
        },
        "id": "_KmoBi_VPwKZ",
        "outputId": "be5b21ce-2bcb-4cac-f950-c69fded09982"
      },
      "execution_count": null,
      "outputs": [
        {
          "output_type": "execute_result",
          "data": {
            "text/plain": [
              "(29400, 400)"
            ]
          },
          "metadata": {},
          "execution_count": 4
        }
      ]
    },
    {
      "cell_type": "code",
      "source": [
        "from sklearn.linear_model import LogisticRegression\n",
        "softReg = LogisticRegression(multi_class = 'multinomial', solver = 'lbfgs',max_iter=1000)\n",
        "softReg.fit(X_train,y_train)\n",
        "y_pred_softreg = softReg.predict(X_test)\n",
        "#for i in range(0, X_test_data.shape[0]):\n",
        " # print(\"ImageId:\", i+1 , \"Label:\", y_pred_softreg[i])\n",
        "from sklearn.metrics import accuracy_score\n",
        "print(y_test.shape)\n",
        "print(X_test.shape)\n",
        "print(y_pred_softreg.shape)\n",
        "print(accuracy_score(y_test, y_pred_softreg))"
      ],
      "metadata": {
        "colab": {
          "base_uri": "https://localhost:8080/"
        },
        "id": "sEqzmSRRP1q7",
        "outputId": "8794f01b-d75e-4bd3-c059-47c38d1a59d9"
      },
      "execution_count": null,
      "outputs": [
        {
          "output_type": "stream",
          "name": "stdout",
          "text": [
            "(12600,)\n",
            "(12600, 400)\n",
            "(12600,)\n",
            "0.9142857142857143\n"
          ]
        }
      ]
    },
    {
      "cell_type": "code",
      "source": [],
      "metadata": {
        "id": "ZytVR2teP7Bm"
      },
      "execution_count": null,
      "outputs": []
    }
  ]
}