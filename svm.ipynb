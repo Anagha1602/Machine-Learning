{
  "cells": [
    {
      "cell_type": "markdown",
      "metadata": {
        "id": "view-in-github",
        "colab_type": "text"
      },
      "source": [
        "<a href=\"https://colab.research.google.com/github/Anagha1602/Machine-Learning/blob/main/svm.ipynb\" target=\"_parent\"><img src=\"https://colab.research.google.com/assets/colab-badge.svg\" alt=\"Open In Colab\"/></a>"
      ]
    },
    {
      "cell_type": "code",
      "execution_count": null,
      "metadata": {
        "colab": {
          "base_uri": "https://localhost:8080/"
        },
        "id": "HmDwzeok3ORO",
        "outputId": "2936fe69-3cb8-4b5e-b307-0e9f18e0eaf9"
      },
      "outputs": [
        {
          "name": "stderr",
          "output_type": "stream",
          "text": [
            "[nltk_data] Downloading package names to /root/nltk_data...\n",
            "[nltk_data]   Unzipping corpora/names.zip.\n",
            "[nltk_data] Downloading package wordnet to /root/nltk_data...\n"
          ]
        },
        {
          "data": {
            "text/plain": [
              "True"
            ]
          },
          "execution_count": 1,
          "metadata": {},
          "output_type": "execute_result"
        }
      ],
      "source": [
        "import nltk\n",
        "nltk.download('names')\n",
        "nltk.download('wordnet')"
      ]
    },
    {
      "cell_type": "code",
      "execution_count": null,
      "metadata": {
        "colab": {
          "base_uri": "https://localhost:8080/"
        },
        "id": "E9KTbuEv3YhR",
        "outputId": "990211ad-d509-4c52-8921-e0465f447be1"
      },
      "outputs": [
        {
          "data": {
            "text/plain": [
              "(11314, 7532, 7532)"
            ]
          },
          "execution_count": 2,
          "metadata": {},
          "output_type": "execute_result"
        }
      ],
      "source": [
        "from sklearn.datasets import fetch_20newsgroups\n",
        "groups = fetch_20newsgroups()\n",
        "data_train = fetch_20newsgroups(subset='train', random_state=21)\n",
        "train_label = data_train.target\n",
        "data_test = fetch_20newsgroups(subset='test', random_state=21)\n",
        "test_label = data_test.target\n",
        "len(data_train.data), len(data_test.data), len(test_label)"
      ]
    },
    {
      "cell_type": "code",
      "execution_count": null,
      "metadata": {
        "colab": {
          "base_uri": "https://localhost:8080/"
        },
        "id": "5fvsGPHg3ejf",
        "outputId": "6524c7b4-4d6d-4ae4-d0ae-541c4e87a36b"
      },
      "outputs": [
        {
          "data": {
            "text/plain": [
              "array([ 0,  1,  2,  3,  4,  5,  6,  7,  8,  9, 10, 11, 12, 13, 14, 15, 16,\n",
              "       17, 18, 19])"
            ]
          },
          "execution_count": 3,
          "metadata": {},
          "output_type": "execute_result"
        }
      ],
      "source": [
        "import numpy as np\n",
        "np.unique(test_label)"
      ]
    },
    {
      "cell_type": "code",
      "execution_count": null,
      "metadata": {
        "id": "zuNy1uFQ3hsu"
      },
      "outputs": [],
      "source": [
        "from collections import defaultdict\n",
        "from nltk.stem import WordNetLemmatizer\n",
        "from nltk.corpus import names  # contains 5001 female names and 2943 male names\n",
        "all_names = names.words()\n",
        "WNL = WordNetLemmatizer()"
      ]
    },
    {
      "cell_type": "code",
      "execution_count": null,
      "metadata": {
        "id": "CWRAA-Hd3sRE"
      },
      "outputs": [],
      "source": [
        "def clean(data):\n",
        "  cleaned = defaultdict(list)\n",
        "  count = 0\n",
        "  for group in data:\n",
        "     for words in group.split():\n",
        "        if words.isalpha() and words not in all_names:\n",
        "            cleaned[count].append(WNL.lemmatize(words.lower()))\n",
        "     cleaned[count] = ' '.join(cleaned[count])\n",
        "     count +=1\n",
        "  return(list(cleaned.values()))"
      ]
    },
    {
      "cell_type": "code",
      "execution_count": null,
      "metadata": {
        "colab": {
          "background_save": true
        },
        "id": "ogzbfIjt303J"
      },
      "outputs": [],
      "source": [
        "x_train = clean(data_train.data)\n",
        "x_test = clean(data_test.data)"
      ]
    },
    {
      "cell_type": "code",
      "execution_count": null,
      "metadata": {
        "id": "V0vi59734CVE",
        "colab": {
          "base_uri": "https://localhost:8080/"
        },
        "outputId": "d4974ab8-2586-45e5-bd4e-d86c380f2db6"
      },
      "outputs": [
        {
          "output_type": "execute_result",
          "data": {
            "text/plain": [
              "((11314, 1000), (7532, 1000))"
            ]
          },
          "metadata": {},
          "execution_count": 7
        }
      ],
      "source": [
        "from sklearn.feature_extraction.text import TfidfVectorizer\n",
        "tf = TfidfVectorizer(stop_words='english', max_features=1000)\n",
        "X_train = tf.fit_transform(x_train)\n",
        "X_test = tf.transform(x_test)\n",
        "X_train.shape, X_test.shape"
      ]
    },
    {
      "cell_type": "code",
      "execution_count": null,
      "metadata": {
        "id": "P2PgBjT84GDH"
      },
      "outputs": [],
      "source": [
        "from sklearn.svm import SVC\n",
        "svc_lib = SVC(kernel = 'linear')\n",
        "parameters = {'C' : (0.5,1.0,10,100)}"
      ]
    },
    {
      "cell_type": "code",
      "execution_count": null,
      "metadata": {
        "id": "9fO3oVh04NEF"
      },
      "outputs": [],
      "source": [
        "from sklearn.model_selection import GridSearchCV\n",
        "import timeit"
      ]
    },
    {
      "cell_type": "code",
      "execution_count": null,
      "metadata": {
        "id": "kfftoRFo4Zhd",
        "colab": {
          "base_uri": "https://localhost:8080/"
        },
        "outputId": "4a248c38-95ba-41c8-e1ea-2188b8a4791e"
      },
      "outputs": [
        {
          "output_type": "stream",
          "name": "stdout",
          "text": [
            "Execution Time :  176.47330242999988\n",
            "{'C': 1.0}\n",
            "0.7213187626843581\n"
          ]
        }
      ],
      "source": [
        "grid_search1 =GridSearchCV(svc_lib, parameters, n_jobs = -1, cv = 3)\n",
        "start_time = timeit.default_timer()\n",
        "grid_search1.fit(X_train, train_label)\n",
        "final = timeit.default_timer()-start_time\n",
        "print(\"Execution Time : \",final)\n",
        "print(grid_search1.best_params_)\n",
        "print(grid_search1.best_score_)"
      ]
    },
    {
      "cell_type": "code",
      "execution_count": null,
      "metadata": {
        "id": "czHhA9dS4fBm",
        "colab": {
          "base_uri": "https://localhost:8080/"
        },
        "outputId": "92241c07-65ab-4324-e9c7-74b77fedface"
      },
      "outputs": [
        {
          "output_type": "stream",
          "name": "stdout",
          "text": [
            "0.6259957514604355\n"
          ]
        }
      ],
      "source": [
        "grid_search_best1 = grid_search1.best_estimator_\n",
        "accur1 = grid_search_best1.score(X_test, test_label)\n",
        "print(accur1)"
      ]
    }
  ],
  "metadata": {
    "accelerator": "GPU",
    "colab": {
      "gpuType": "T4",
      "provenance": [],
      "include_colab_link": true
    },
    "kernelspec": {
      "display_name": "Python 3",
      "name": "python3"
    },
    "language_info": {
      "name": "python"
    }
  },
  "nbformat": 4,
  "nbformat_minor": 0
}